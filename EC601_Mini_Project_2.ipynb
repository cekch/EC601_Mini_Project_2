{
  "nbformat": 4,
  "nbformat_minor": 0,
  "metadata": {
    "colab": {
      "name": "EC601_Mini_Project_2.ipynb",
      "version": "0.3.2",
      "provenance": [],
      "collapsed_sections": []
    },
    "kernelspec": {
      "name": "python3",
      "display_name": "Python 3"
    }
  },
  "cells": [
    {
      "metadata": {
        "id": "YIdfml-gSagZ",
        "colab_type": "code",
        "colab": {
          "resources": {
            "http://localhost:8080/nbextensions/google.colab/files.js": {
              "data": "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",
              "ok": true,
              "headers": [
                [
                  "content-type",
                  "application/javascript"
                ]
              ],
              "status": 200,
              "status_text": ""
            }
          },
          "base_uri": "https://localhost:8080/",
          "height": 4859
        },
        "outputId": "7c1f6ffd-920a-4c60-a415-f4aacd898070"
      },
      "cell_type": "code",
      "source": [
        "import tensorflow as tf\n",
        "from tensorflow import keras\n",
        "\n",
        "import numpy as np\n",
        "import matplotlib.pyplot as plt\n",
        "from google.colab import files\n",
        "import os\n",
        "\n",
        "import cv2\n",
        "\n",
        "!rm *.jpg\n",
        "!rm *.txt\n",
        "\n",
        "\n",
        "#Upload images to google colab\n",
        "print(\"Upload Training Images...\")\n",
        "train_images = files.upload()\n",
        "print(\"Upload Training Labels...\")\n",
        "train_labels = files.upload()\n",
        "print(\"Upload Validation Images...\")\n",
        "validation_images = files.upload()\n",
        "print(\"Upload Validation Labels...\")\n",
        "validation_labels = files.upload()\n",
        "print(\"Upload Testing Images...\")\n",
        "test_images = files.upload()\n",
        "print(\"Upload Testing Labels...\")\n",
        "test_labels = files.upload()\n",
        "\n",
        "\n",
        "##Preprocessing of Images\n",
        "\n",
        "#create lists of files for training, validation, and test labels\n",
        "train_labels_list = list(train_labels.keys())\n",
        "validation_labels_list = list(validation_labels.keys())\n",
        "test_labels_list = list(test_labels.keys())\n",
        "\n",
        "\n",
        "#get pixel array of training dataset\n",
        "train_images_array = []\n",
        "for image in train_images_list:\n",
        "  image_pixel_array = cv2.imread(image)\n",
        "  train_images_array.append(image_pixel_array)\n",
        "#convert array to numpy array\n",
        "train_images_nparray = np.array(train_images_array)\n",
        "\n",
        "#get pixel array of validation dataset\n",
        "validation_images_array = []\n",
        "for image in validation_images_list:\n",
        "  image_pixel_array = cv2.imread(image)\n",
        "  validation_images_array.append(image_pixel_array)\n",
        "#convert array to numpy array\n",
        "validation_images_nparray = np.array(validation_images_array)\n",
        "\n",
        "#get pixel array of test dataset\n",
        "test_images_array = []\n",
        "for image in test_images_list:\n",
        "  image_pixel_array = cv2.imread(image)\n",
        "  test_images_array.append(image_pixel_array)\n",
        "#convert array to numpy array\n",
        "test_images_nparray = np.array(test_images_array)\n",
        "\n",
        "#make all pixel values between 0 and 1\n",
        "train_images_nparray = train_images_nparray / 255.0\n",
        "validation_images_nparray = validation_images_nparray / 255.0\n",
        "test_images_nparray = test_images_nparray / 255.0\n",
        "\n",
        "#Save all the labels in list form\n",
        "train_class_list = []\n",
        "for label_file in train_labels_list:\n",
        "  label_file_open = open(label_file, \"r\")\n",
        "  file_contents = label_file_open.read()\n",
        "  object_class = file_contents.split('\\t', 1)[0]\n",
        "  if object_class == 'Coin':\n",
        "    train_class_list.append(0)\n",
        "  elif object_class == 'Cash':\n",
        "    train_class_list.append(1)\n",
        "train_class_nparray = np.asarray(train_class_list)\n",
        "\n",
        "validation_class_list = []\n",
        "for label_file in validation_labels_list:\n",
        "  label_file_open = open(label_file, \"r\")\n",
        "  file_contents = label_file_open.read()\n",
        "  object_class = file_contents.split('\\t', 1)[0]\n",
        "  if object_class == 'Coin':\n",
        "    validation_class_list.append(0)\n",
        "  elif object_class == 'Cash':\n",
        "    validation_class_list.append(1)\n",
        "validation_class_nparray = np.asarray(validation_class_list)\n",
        "\n",
        "test_class_list = []\n",
        "for label_file in test_labels_list:\n",
        "  label_file_open = open(label_file, \"r\")\n",
        "  file_contents = label_file_open.read()\n",
        "  object_class = file_contents.split('\\t', 1)[0]\n",
        "  if object_class == 'Coin':\n",
        "    test_class_list.append(0)\n",
        "  elif object_class == 'Cash':\n",
        "    test_class_list.append(1)\n",
        "test_class_nparray = np.asarray(test_class_list)\n",
        "\n",
        "##Build Model\n",
        "model = keras.Sequential([\n",
        "        keras.layers.Conv2D(32, (3,3), activation='relu', input_shape=(80,80,3), data_format='channels_last'),\n",
        "        keras.layers.Flatten(input_shape=(80,80,3)), \n",
        "        keras.layers.Dense(2, activation='softmax')\n",
        "        ])  \n",
        "\n",
        "##Compile Model\n",
        "model.compile(optimizer=tf.train.AdamOptimizer(), \n",
        "              loss='sparse_categorical_crossentropy',\n",
        "              metrics=['accuracy'])\n",
        "\n",
        "##Train Model\n",
        "model.fit(train_images_nparray, \n",
        "          train_class_nparray, \n",
        "          validation_data=(validation_images_nparray, validation_class_nparray),\n",
        "          epochs=100)\n",
        "\n",
        "##Make Predictions\n",
        "predictions = model.predict(test_images_nparray)\n",
        "print(predictions)\n",
        "\n"
      ],
      "execution_count": 35,
      "outputs": [
        {
          "output_type": "stream",
          "text": [
            "Upload Training Images...\n"
          ],
          "name": "stdout"
        },
        {
          "output_type": "display_data",
          "data": {
            "text/html": [
              "\n",
              "     <input type=\"file\" id=\"files-8bdfd37b-e047-4626-ba40-efbe739f026f\" name=\"files[]\" multiple disabled />\n",
              "     <output id=\"result-8bdfd37b-e047-4626-ba40-efbe739f026f\">\n",
              "      Upload widget is only available when the cell has been executed in the\n",
              "      current browser session. Please rerun this cell to enable.\n",
              "      </output>\n",
              "      <script src=\"/nbextensions/google.colab/files.js\"></script> "
            ],
            "text/plain": [
              "<IPython.core.display.HTML object>"
            ]
          },
          "metadata": {
            "tags": []
          }
        },
        {
          "output_type": "stream",
          "text": [
            "Saving 0b242352-0000000.jpg to 0b242352-0000000.jpg\n",
            "Saving 0f043e22-0000000.jpg to 0f043e22-0000000.jpg\n",
            "Saving 5ad7ebeb-0000000.jpg to 5ad7ebeb-0000000.jpg\n",
            "Saving 18b35af4-0000000.jpg to 18b35af4-0000000.jpg\n",
            "Saving 62de8c43-0000000.jpg to 62de8c43-0000000.jpg\n",
            "Saving 746cba30-0000000.jpg to 746cba30-0000000.jpg\n",
            "Saving 985a71a9-0000000.jpg to 985a71a9-0000000.jpg\n",
            "Saving ac030f70-0000000.jpg to ac030f70-0000000.jpg\n",
            "Saving aface5b1-0000000.jpg to aface5b1-0000000.jpg\n",
            "Saving bed16fd3-0000000.jpg to bed16fd3-0000000.jpg\n",
            "Saving d25a6592-0000000.jpg to d25a6592-0000000.jpg\n",
            "Upload Training Labels...\n"
          ],
          "name": "stdout"
        },
        {
          "output_type": "display_data",
          "data": {
            "text/html": [
              "\n",
              "     <input type=\"file\" id=\"files-fe379390-b034-4bc7-b88f-9caa0224a919\" name=\"files[]\" multiple disabled />\n",
              "     <output id=\"result-fe379390-b034-4bc7-b88f-9caa0224a919\">\n",
              "      Upload widget is only available when the cell has been executed in the\n",
              "      current browser session. Please rerun this cell to enable.\n",
              "      </output>\n",
              "      <script src=\"/nbextensions/google.colab/files.js\"></script> "
            ],
            "text/plain": [
              "<IPython.core.display.HTML object>"
            ]
          },
          "metadata": {
            "tags": []
          }
        },
        {
          "output_type": "stream",
          "text": [
            "Saving 0b242352-0000000.txt to 0b242352-0000000.txt\n",
            "Saving 0f043e22-0000000.txt to 0f043e22-0000000.txt\n",
            "Saving 5ad7ebeb-0000000.txt to 5ad7ebeb-0000000.txt\n",
            "Saving 18b35af4-0000000.txt to 18b35af4-0000000.txt\n",
            "Saving 62de8c43-0000000.txt to 62de8c43-0000000.txt\n",
            "Saving 746cba30-0000000.txt to 746cba30-0000000.txt\n",
            "Saving 985a71a9-0000000.txt to 985a71a9-0000000.txt\n",
            "Saving ac030f70-0000000.txt to ac030f70-0000000.txt\n",
            "Saving aface5b1-0000000.txt to aface5b1-0000000.txt\n",
            "Saving bed16fd3-0000000.txt to bed16fd3-0000000.txt\n",
            "Saving d25a6592-0000000.txt to d25a6592-0000000.txt\n",
            "Upload Validation Images...\n"
          ],
          "name": "stdout"
        },
        {
          "output_type": "display_data",
          "data": {
            "text/html": [
              "\n",
              "     <input type=\"file\" id=\"files-d0f9ce55-82f6-4c6c-be6e-c9dccd354444\" name=\"files[]\" multiple disabled />\n",
              "     <output id=\"result-d0f9ce55-82f6-4c6c-be6e-c9dccd354444\">\n",
              "      Upload widget is only available when the cell has been executed in the\n",
              "      current browser session. Please rerun this cell to enable.\n",
              "      </output>\n",
              "      <script src=\"/nbextensions/google.colab/files.js\"></script> "
            ],
            "text/plain": [
              "<IPython.core.display.HTML object>"
            ]
          },
          "metadata": {
            "tags": []
          }
        },
        {
          "output_type": "stream",
          "text": [
            "Saving 60c8bef4-0000000.jpg to 60c8bef4-0000000.jpg\n",
            "Saving bf109942-0000000.jpg to bf109942-0000000.jpg\n",
            "Upload Validation Labels...\n"
          ],
          "name": "stdout"
        },
        {
          "output_type": "display_data",
          "data": {
            "text/html": [
              "\n",
              "     <input type=\"file\" id=\"files-775bc863-0a36-4995-849f-7449f3fdbd56\" name=\"files[]\" multiple disabled />\n",
              "     <output id=\"result-775bc863-0a36-4995-849f-7449f3fdbd56\">\n",
              "      Upload widget is only available when the cell has been executed in the\n",
              "      current browser session. Please rerun this cell to enable.\n",
              "      </output>\n",
              "      <script src=\"/nbextensions/google.colab/files.js\"></script> "
            ],
            "text/plain": [
              "<IPython.core.display.HTML object>"
            ]
          },
          "metadata": {
            "tags": []
          }
        },
        {
          "output_type": "stream",
          "text": [
            "Saving 60c8bef4-0000000.txt to 60c8bef4-0000000.txt\n",
            "Saving bf109942-0000000.txt to bf109942-0000000.txt\n",
            "Upload Testing Images...\n"
          ],
          "name": "stdout"
        },
        {
          "output_type": "display_data",
          "data": {
            "text/html": [
              "\n",
              "     <input type=\"file\" id=\"files-eee747b5-1741-468b-a175-6c6d38577c64\" name=\"files[]\" multiple disabled />\n",
              "     <output id=\"result-eee747b5-1741-468b-a175-6c6d38577c64\">\n",
              "      Upload widget is only available when the cell has been executed in the\n",
              "      current browser session. Please rerun this cell to enable.\n",
              "      </output>\n",
              "      <script src=\"/nbextensions/google.colab/files.js\"></script> "
            ],
            "text/plain": [
              "<IPython.core.display.HTML object>"
            ]
          },
          "metadata": {
            "tags": []
          }
        },
        {
          "output_type": "stream",
          "text": [
            "Saving 59d42d22-0000000.jpg to 59d42d22-0000000.jpg\n",
            "Saving e3346aa1-0000000.jpg to e3346aa1-0000000.jpg\n",
            "Upload Testing Labels...\n"
          ],
          "name": "stdout"
        },
        {
          "output_type": "display_data",
          "data": {
            "text/html": [
              "\n",
              "     <input type=\"file\" id=\"files-538b90a5-a023-4f3e-a618-74e51849509f\" name=\"files[]\" multiple disabled />\n",
              "     <output id=\"result-538b90a5-a023-4f3e-a618-74e51849509f\">\n",
              "      Upload widget is only available when the cell has been executed in the\n",
              "      current browser session. Please rerun this cell to enable.\n",
              "      </output>\n",
              "      <script src=\"/nbextensions/google.colab/files.js\"></script> "
            ],
            "text/plain": [
              "<IPython.core.display.HTML object>"
            ]
          },
          "metadata": {
            "tags": []
          }
        },
        {
          "output_type": "stream",
          "text": [
            "Saving 59d42d22-0000000.txt to 59d42d22-0000000.txt\n",
            "Saving e3346aa1-0000000.txt to e3346aa1-0000000.txt\n",
            "Train on 11 samples, validate on 2 samples\n",
            "Epoch 1/100\n",
            "11/11 [==============================] - 0s 44ms/step - loss: 0.7045 - acc: 0.3636 - val_loss: 8.0590 - val_acc: 0.5000\n",
            "Epoch 2/100\n",
            "11/11 [==============================] - 0s 6ms/step - loss: 4.3901 - acc: 0.7273 - val_loss: 8.0590 - val_acc: 0.5000\n",
            "Epoch 3/100\n",
            "11/11 [==============================] - 0s 6ms/step - loss: 4.0617 - acc: 0.7273 - val_loss: 5.7994 - val_acc: 0.5000\n",
            "Epoch 4/100\n",
            "11/11 [==============================] - 0s 6ms/step - loss: 1.8205 - acc: 0.7273 - val_loss: 0.4702 - val_acc: 0.5000\n",
            "Epoch 5/100\n",
            "11/11 [==============================] - 0s 6ms/step - loss: 0.0027 - acc: 1.0000 - val_loss: 0.0518 - val_acc: 1.0000\n",
            "Epoch 6/100\n",
            "11/11 [==============================] - 0s 6ms/step - loss: 0.0387 - acc: 1.0000 - val_loss: 0.7718 - val_acc: 0.5000\n",
            "Epoch 7/100\n",
            "11/11 [==============================] - 0s 6ms/step - loss: 0.8227 - acc: 0.3636 - val_loss: 0.2261 - val_acc: 1.0000\n",
            "Epoch 8/100\n",
            "11/11 [==============================] - 0s 6ms/step - loss: 0.1710 - acc: 1.0000 - val_loss: 0.0209 - val_acc: 1.0000\n",
            "Epoch 9/100\n",
            "11/11 [==============================] - 0s 7ms/step - loss: 0.0108 - acc: 1.0000 - val_loss: 0.0024 - val_acc: 1.0000\n",
            "Epoch 10/100\n",
            "11/11 [==============================] - 0s 6ms/step - loss: 9.2633e-04 - acc: 1.0000 - val_loss: 0.0010 - val_acc: 1.0000\n",
            "Epoch 11/100\n",
            "11/11 [==============================] - 0s 6ms/step - loss: 1.1554e-04 - acc: 1.0000 - val_loss: 0.0037 - val_acc: 1.0000\n",
            "Epoch 12/100\n",
            "11/11 [==============================] - 0s 6ms/step - loss: 1.9648e-05 - acc: 1.0000 - val_loss: 0.0154 - val_acc: 1.0000\n",
            "Epoch 13/100\n",
            "11/11 [==============================] - 0s 6ms/step - loss: 4.6275e-06 - acc: 1.0000 - val_loss: 0.0533 - val_acc: 1.0000\n",
            "Epoch 14/100\n",
            "11/11 [==============================] - 0s 6ms/step - loss: 2.4492e-06 - acc: 1.0000 - val_loss: 0.1517 - val_acc: 1.0000\n",
            "Epoch 15/100\n",
            "11/11 [==============================] - 0s 6ms/step - loss: 4.0747e-06 - acc: 1.0000 - val_loss: 0.3443 - val_acc: 1.0000\n",
            "Epoch 16/100\n",
            "11/11 [==============================] - 0s 6ms/step - loss: 9.3954e-06 - acc: 1.0000 - val_loss: 0.6241 - val_acc: 0.5000\n",
            "Epoch 17/100\n",
            "11/11 [==============================] - 0s 6ms/step - loss: 2.0784e-05 - acc: 1.0000 - val_loss: 0.9459 - val_acc: 0.5000\n",
            "Epoch 18/100\n",
            "11/11 [==============================] - 0s 6ms/step - loss: 4.2082e-05 - acc: 1.0000 - val_loss: 1.2679 - val_acc: 0.5000\n",
            "Epoch 19/100\n",
            "11/11 [==============================] - 0s 6ms/step - loss: 7.7649e-05 - acc: 1.0000 - val_loss: 1.5667 - val_acc: 0.5000\n",
            "Epoch 20/100\n",
            "11/11 [==============================] - 0s 6ms/step - loss: 1.3064e-04 - acc: 1.0000 - val_loss: 1.8327 - val_acc: 0.5000\n",
            "Epoch 21/100\n",
            "11/11 [==============================] - 0s 6ms/step - loss: 2.0068e-04 - acc: 1.0000 - val_loss: 2.0618 - val_acc: 0.5000\n",
            "Epoch 22/100\n",
            "11/11 [==============================] - 0s 6ms/step - loss: 2.8132e-04 - acc: 1.0000 - val_loss: 2.2526 - val_acc: 0.5000\n",
            "Epoch 23/100\n",
            "11/11 [==============================] - 0s 8ms/step - loss: 3.6018e-04 - acc: 1.0000 - val_loss: 2.4048 - val_acc: 0.5000\n",
            "Epoch 24/100\n",
            "11/11 [==============================] - 0s 8ms/step - loss: 4.2078e-04 - acc: 1.0000 - val_loss: 2.5192 - val_acc: 0.5000\n",
            "Epoch 25/100\n",
            "11/11 [==============================] - 0s 8ms/step - loss: 4.4861e-04 - acc: 1.0000 - val_loss: 2.5970 - val_acc: 0.5000\n",
            "Epoch 26/100\n",
            "11/11 [==============================] - 0s 7ms/step - loss: 4.3722e-04 - acc: 1.0000 - val_loss: 2.6405 - val_acc: 0.5000\n",
            "Epoch 27/100\n",
            "11/11 [==============================] - 0s 7ms/step - loss: 3.9089e-04 - acc: 1.0000 - val_loss: 2.6526 - val_acc: 0.5000\n",
            "Epoch 28/100\n",
            "11/11 [==============================] - 0s 7ms/step - loss: 3.2251e-04 - acc: 1.0000 - val_loss: 2.6372 - val_acc: 0.5000\n",
            "Epoch 29/100\n",
            "11/11 [==============================] - 0s 8ms/step - loss: 2.4774e-04 - acc: 1.0000 - val_loss: 2.5991 - val_acc: 0.5000\n",
            "Epoch 30/100\n",
            "11/11 [==============================] - 0s 8ms/step - loss: 1.7907e-04 - acc: 1.0000 - val_loss: 2.5422 - val_acc: 0.5000\n",
            "Epoch 31/100\n",
            "11/11 [==============================] - 0s 8ms/step - loss: 1.2320e-04 - acc: 1.0000 - val_loss: 2.4709 - val_acc: 0.5000\n",
            "Epoch 32/100\n",
            "11/11 [==============================] - 0s 7ms/step - loss: 8.1506e-05 - acc: 1.0000 - val_loss: 2.3884 - val_acc: 0.5000\n",
            "Epoch 33/100\n",
            "11/11 [==============================] - 0s 7ms/step - loss: 5.2384e-05 - acc: 1.0000 - val_loss: 2.2980 - val_acc: 0.5000\n",
            "Epoch 34/100\n",
            "11/11 [==============================] - 0s 7ms/step - loss: 3.2951e-05 - acc: 1.0000 - val_loss: 2.2028 - val_acc: 0.5000\n",
            "Epoch 35/100\n",
            "11/11 [==============================] - 0s 7ms/step - loss: 2.0448e-05 - acc: 1.0000 - val_loss: 2.1044 - val_acc: 0.5000\n",
            "Epoch 36/100\n",
            "11/11 [==============================] - 0s 7ms/step - loss: 1.2570e-05 - acc: 1.0000 - val_loss: 2.0029 - val_acc: 0.5000\n",
            "Epoch 37/100\n",
            "11/11 [==============================] - 0s 7ms/step - loss: 7.7050e-06 - acc: 1.0000 - val_loss: 1.8994 - val_acc: 0.5000\n",
            "Epoch 38/100\n",
            "11/11 [==============================] - 0s 7ms/step - loss: 4.7466e-06 - acc: 1.0000 - val_loss: 1.7950 - val_acc: 0.5000\n",
            "Epoch 39/100\n",
            "11/11 [==============================] - 0s 7ms/step - loss: 2.9369e-06 - acc: 1.0000 - val_loss: 1.6902 - val_acc: 0.5000\n",
            "Epoch 40/100\n",
            "11/11 [==============================] - 0s 7ms/step - loss: 1.8423e-06 - acc: 1.0000 - val_loss: 1.5860 - val_acc: 0.5000\n",
            "Epoch 41/100\n",
            "11/11 [==============================] - 0s 7ms/step - loss: 1.1921e-06 - acc: 1.0000 - val_loss: 1.4829 - val_acc: 0.5000\n",
            "Epoch 42/100\n",
            "11/11 [==============================] - 0s 8ms/step - loss: 8.0195e-07 - acc: 1.0000 - val_loss: 1.3812 - val_acc: 0.5000\n",
            "Epoch 43/100\n",
            "11/11 [==============================] - 0s 8ms/step - loss: 5.5270e-07 - acc: 1.0000 - val_loss: 1.2822 - val_acc: 0.5000\n",
            "Epoch 44/100\n",
            "11/11 [==============================] - 0s 8ms/step - loss: 3.9014e-07 - acc: 1.0000 - val_loss: 1.1869 - val_acc: 0.5000\n",
            "Epoch 45/100\n",
            "11/11 [==============================] - 0s 7ms/step - loss: 2.9260e-07 - acc: 1.0000 - val_loss: 1.0955 - val_acc: 0.5000\n",
            "Epoch 46/100\n",
            "11/11 [==============================] - 0s 7ms/step - loss: 2.2758e-07 - acc: 1.0000 - val_loss: 1.0084 - val_acc: 0.5000\n",
            "Epoch 47/100\n",
            "11/11 [==============================] - 0s 8ms/step - loss: 1.9507e-07 - acc: 1.0000 - val_loss: 0.9262 - val_acc: 0.5000\n",
            "Epoch 48/100\n",
            "11/11 [==============================] - 0s 7ms/step - loss: 1.6256e-07 - acc: 1.0000 - val_loss: 0.8487 - val_acc: 0.5000\n",
            "Epoch 49/100\n",
            "11/11 [==============================] - 0s 8ms/step - loss: 1.5172e-07 - acc: 1.0000 - val_loss: 0.7765 - val_acc: 0.5000\n",
            "Epoch 50/100\n",
            "11/11 [==============================] - 0s 7ms/step - loss: 1.3005e-07 - acc: 1.0000 - val_loss: 0.7101 - val_acc: 0.5000\n",
            "Epoch 51/100\n",
            "11/11 [==============================] - 0s 7ms/step - loss: 1.1921e-07 - acc: 1.0000 - val_loss: 0.6495 - val_acc: 0.5000\n",
            "Epoch 52/100\n",
            "11/11 [==============================] - 0s 8ms/step - loss: 1.1921e-07 - acc: 1.0000 - val_loss: 0.5949 - val_acc: 0.5000\n",
            "Epoch 53/100\n",
            "11/11 [==============================] - 0s 7ms/step - loss: 1.1921e-07 - acc: 1.0000 - val_loss: 0.5460 - val_acc: 0.5000\n",
            "Epoch 54/100\n",
            "11/11 [==============================] - 0s 7ms/step - loss: 1.1921e-07 - acc: 1.0000 - val_loss: 0.5022 - val_acc: 0.5000\n",
            "Epoch 55/100\n",
            "11/11 [==============================] - 0s 8ms/step - loss: 1.1921e-07 - acc: 1.0000 - val_loss: 0.4633 - val_acc: 0.5000\n",
            "Epoch 56/100\n",
            "11/11 [==============================] - 0s 8ms/step - loss: 1.1921e-07 - acc: 1.0000 - val_loss: 0.4289 - val_acc: 0.5000\n",
            "Epoch 57/100\n",
            "11/11 [==============================] - 0s 7ms/step - loss: 1.1921e-07 - acc: 1.0000 - val_loss: 0.3985 - val_acc: 0.5000\n",
            "Epoch 58/100\n",
            "11/11 [==============================] - 0s 7ms/step - loss: 1.1921e-07 - acc: 1.0000 - val_loss: 0.3718 - val_acc: 0.5000\n",
            "Epoch 59/100\n",
            "11/11 [==============================] - 0s 7ms/step - loss: 1.1921e-07 - acc: 1.0000 - val_loss: 0.3482 - val_acc: 0.5000\n",
            "Epoch 60/100\n",
            "11/11 [==============================] - 0s 7ms/step - loss: 1.1921e-07 - acc: 1.0000 - val_loss: 0.3275 - val_acc: 1.0000\n",
            "Epoch 61/100\n",
            "11/11 [==============================] - 0s 7ms/step - loss: 1.1921e-07 - acc: 1.0000 - val_loss: 0.3092 - val_acc: 1.0000\n",
            "Epoch 62/100\n",
            "11/11 [==============================] - 0s 7ms/step - loss: 1.1921e-07 - acc: 1.0000 - val_loss: 0.2930 - val_acc: 1.0000\n",
            "Epoch 63/100\n",
            "11/11 [==============================] - 0s 7ms/step - loss: 1.1921e-07 - acc: 1.0000 - val_loss: 0.2788 - val_acc: 1.0000\n",
            "Epoch 64/100\n",
            "11/11 [==============================] - 0s 7ms/step - loss: 1.1921e-07 - acc: 1.0000 - val_loss: 0.2661 - val_acc: 1.0000\n",
            "Epoch 65/100\n",
            "11/11 [==============================] - 0s 7ms/step - loss: 1.1921e-07 - acc: 1.0000 - val_loss: 0.2550 - val_acc: 1.0000\n",
            "Epoch 66/100\n",
            "11/11 [==============================] - 0s 7ms/step - loss: 1.1921e-07 - acc: 1.0000 - val_loss: 0.2451 - val_acc: 1.0000\n",
            "Epoch 67/100\n",
            "11/11 [==============================] - 0s 7ms/step - loss: 1.1921e-07 - acc: 1.0000 - val_loss: 0.2363 - val_acc: 1.0000\n",
            "Epoch 68/100\n",
            "11/11 [==============================] - 0s 8ms/step - loss: 1.1921e-07 - acc: 1.0000 - val_loss: 0.2286 - val_acc: 1.0000\n",
            "Epoch 69/100\n",
            "11/11 [==============================] - 0s 7ms/step - loss: 1.1921e-07 - acc: 1.0000 - val_loss: 0.2217 - val_acc: 1.0000\n",
            "Epoch 70/100\n",
            "11/11 [==============================] - 0s 7ms/step - loss: 1.1921e-07 - acc: 1.0000 - val_loss: 0.2155 - val_acc: 1.0000\n",
            "Epoch 71/100\n",
            "11/11 [==============================] - 0s 8ms/step - loss: 1.1921e-07 - acc: 1.0000 - val_loss: 0.2100 - val_acc: 1.0000\n",
            "Epoch 72/100\n",
            "11/11 [==============================] - 0s 7ms/step - loss: 1.1921e-07 - acc: 1.0000 - val_loss: 0.2052 - val_acc: 1.0000\n",
            "Epoch 73/100\n",
            "11/11 [==============================] - 0s 9ms/step - loss: 1.1921e-07 - acc: 1.0000 - val_loss: 0.2008 - val_acc: 1.0000\n",
            "Epoch 74/100\n",
            "11/11 [==============================] - 0s 7ms/step - loss: 1.1921e-07 - acc: 1.0000 - val_loss: 0.1969 - val_acc: 1.0000\n",
            "Epoch 75/100\n",
            "11/11 [==============================] - 0s 7ms/step - loss: 1.1921e-07 - acc: 1.0000 - val_loss: 0.1934 - val_acc: 1.0000\n",
            "Epoch 76/100\n",
            "11/11 [==============================] - 0s 7ms/step - loss: 1.1921e-07 - acc: 1.0000 - val_loss: 0.1903 - val_acc: 1.0000\n",
            "Epoch 77/100\n",
            "11/11 [==============================] - 0s 8ms/step - loss: 1.1921e-07 - acc: 1.0000 - val_loss: 0.1875 - val_acc: 1.0000\n",
            "Epoch 78/100\n",
            "11/11 [==============================] - 0s 7ms/step - loss: 1.1921e-07 - acc: 1.0000 - val_loss: 0.1850 - val_acc: 1.0000\n",
            "Epoch 79/100\n",
            "11/11 [==============================] - 0s 7ms/step - loss: 1.1921e-07 - acc: 1.0000 - val_loss: 0.1827 - val_acc: 1.0000\n",
            "Epoch 80/100\n",
            "11/11 [==============================] - 0s 7ms/step - loss: 1.1921e-07 - acc: 1.0000 - val_loss: 0.1807 - val_acc: 1.0000\n",
            "Epoch 81/100\n",
            "11/11 [==============================] - 0s 7ms/step - loss: 1.1921e-07 - acc: 1.0000 - val_loss: 0.1788 - val_acc: 1.0000\n",
            "Epoch 82/100\n",
            "11/11 [==============================] - 0s 8ms/step - loss: 1.1921e-07 - acc: 1.0000 - val_loss: 0.1772 - val_acc: 1.0000\n",
            "Epoch 83/100\n",
            "11/11 [==============================] - 0s 7ms/step - loss: 1.1921e-07 - acc: 1.0000 - val_loss: 0.1757 - val_acc: 1.0000\n",
            "Epoch 84/100\n",
            "11/11 [==============================] - 0s 7ms/step - loss: 1.1921e-07 - acc: 1.0000 - val_loss: 0.1744 - val_acc: 1.0000\n",
            "Epoch 85/100\n",
            "11/11 [==============================] - 0s 8ms/step - loss: 1.1921e-07 - acc: 1.0000 - val_loss: 0.1732 - val_acc: 1.0000\n",
            "Epoch 86/100\n",
            "11/11 [==============================] - 0s 7ms/step - loss: 1.1921e-07 - acc: 1.0000 - val_loss: 0.1721 - val_acc: 1.0000\n",
            "Epoch 87/100\n",
            "11/11 [==============================] - 0s 7ms/step - loss: 1.1921e-07 - acc: 1.0000 - val_loss: 0.1711 - val_acc: 1.0000\n",
            "Epoch 88/100\n",
            "11/11 [==============================] - 0s 7ms/step - loss: 1.1921e-07 - acc: 1.0000 - val_loss: 0.1702 - val_acc: 1.0000\n",
            "Epoch 89/100\n",
            "11/11 [==============================] - 0s 7ms/step - loss: 1.1921e-07 - acc: 1.0000 - val_loss: 0.1695 - val_acc: 1.0000\n",
            "Epoch 90/100\n",
            "11/11 [==============================] - 0s 7ms/step - loss: 1.1921e-07 - acc: 1.0000 - val_loss: 0.1687 - val_acc: 1.0000\n",
            "Epoch 91/100\n",
            "11/11 [==============================] - 0s 7ms/step - loss: 1.1921e-07 - acc: 1.0000 - val_loss: 0.1681 - val_acc: 1.0000\n",
            "Epoch 92/100\n",
            "11/11 [==============================] - 0s 7ms/step - loss: 1.1921e-07 - acc: 1.0000 - val_loss: 0.1675 - val_acc: 1.0000\n",
            "Epoch 93/100\n",
            "11/11 [==============================] - 0s 7ms/step - loss: 1.1921e-07 - acc: 1.0000 - val_loss: 0.1670 - val_acc: 1.0000\n",
            "Epoch 94/100\n",
            "11/11 [==============================] - 0s 7ms/step - loss: 1.1921e-07 - acc: 1.0000 - val_loss: 0.1665 - val_acc: 1.0000\n",
            "Epoch 95/100\n",
            "11/11 [==============================] - 0s 8ms/step - loss: 1.1921e-07 - acc: 1.0000 - val_loss: 0.1661 - val_acc: 1.0000\n",
            "Epoch 96/100\n",
            "11/11 [==============================] - 0s 7ms/step - loss: 1.1921e-07 - acc: 1.0000 - val_loss: 0.1657 - val_acc: 1.0000\n",
            "Epoch 97/100\n",
            "11/11 [==============================] - 0s 7ms/step - loss: 1.1921e-07 - acc: 1.0000 - val_loss: 0.1653 - val_acc: 1.0000\n",
            "Epoch 98/100\n",
            "11/11 [==============================] - 0s 7ms/step - loss: 1.1921e-07 - acc: 1.0000 - val_loss: 0.1650 - val_acc: 1.0000\n",
            "Epoch 99/100\n",
            "11/11 [==============================] - 0s 7ms/step - loss: 1.1921e-07 - acc: 1.0000 - val_loss: 0.1647 - val_acc: 1.0000\n",
            "Epoch 100/100\n",
            "11/11 [==============================] - 0s 7ms/step - loss: 1.1921e-07 - acc: 1.0000 - val_loss: 0.1645 - val_acc: 1.0000\n",
            "[[9.9999988e-01 7.9191061e-08]\n",
            " [4.6085369e-02 9.5391464e-01]]\n"
          ],
          "name": "stdout"
        }
      ]
    }
  ]
}