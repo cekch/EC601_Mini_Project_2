{
  "nbformat": 4,
  "nbformat_minor": 0,
  "metadata": {
    "colab": {
      "name": "FlipImages.ipynb",
      "version": "0.3.2",
      "provenance": [],
      "collapsed_sections": []
    },
    "kernelspec": {
      "name": "python3",
      "display_name": "Python 3"
    }
  },
  "cells": [
    {
      "metadata": {
        "id": "6pCaP_UiEZ3m",
        "colab_type": "code",
        "colab": {}
      },
      "cell_type": "code",
      "source": [
        "'''This script is used to flip images.'''\n",
        "import os\n",
        "import cv2\n",
        "from google.colab import files\n",
        "\n",
        "#upload the images that are going to be flipped\n",
        "image_files = files.upload()\n",
        "\n",
        "image_files_list = list(image_files.keys())\n",
        "\n",
        "for file in image_files_list:\n",
        "    img = cv2.imread(file)\n",
        "    horizontal_img = cv2.flip( img, 0 )\n",
        "\n",
        "    #save the new flipped images with a different filename\n",
        "    cv2.imwrite(file + '_flip' + '.jpg', horizontal_img)"
      ],
      "execution_count": 0,
      "outputs": []
    }
  ]
}